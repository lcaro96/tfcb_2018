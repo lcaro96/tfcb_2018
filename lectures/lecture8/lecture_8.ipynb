{
 "cells": [
  {
   "cell_type": "markdown",
   "metadata": {},
   "source": [
    "# Lecture 8 of Tools For Computational Biology\n",
    "\n",
    "## Python recap\n",
    "\n",
    "### Python2 versus Python3\n",
    "Use Python3. Preferably Python3.6+"
   ]
  },
  {
   "cell_type": "markdown",
   "metadata": {},
   "source": [
    "### Types\n",
    "\n",
    "#### Integers"
   ]
  },
  {
   "cell_type": "code",
   "execution_count": 1,
   "metadata": {},
   "outputs": [
    {
     "data": {
      "text/plain": [
       "int"
      ]
     },
     "execution_count": 1,
     "metadata": {},
     "output_type": "execute_result"
    }
   ],
   "source": [
    "x = 1\n",
    "\n",
    "type(x)"
   ]
  },
  {
   "cell_type": "markdown",
   "metadata": {},
   "source": [
    "#### Floats"
   ]
  },
  {
   "cell_type": "code",
   "execution_count": 2,
   "metadata": {},
   "outputs": [
    {
     "data": {
      "text/plain": [
       "float"
      ]
     },
     "execution_count": 2,
     "metadata": {},
     "output_type": "execute_result"
    }
   ],
   "source": [
    "x = 3.7\n",
    "\n",
    "type(x)"
   ]
  },
  {
   "cell_type": "markdown",
   "metadata": {},
   "source": [
    "#### Lists"
   ]
  },
  {
   "cell_type": "code",
   "execution_count": 3,
   "metadata": {},
   "outputs": [
    {
     "name": "stdout",
     "output_type": "stream",
     "text": [
      "[1, 2, 3]\n"
     ]
    }
   ],
   "source": [
    "x = [1, 2, 3]\n",
    "\n",
    "len(x)\n",
    "\n",
    "print(x)"
   ]
  },
  {
   "cell_type": "markdown",
   "metadata": {},
   "source": [
    "#### Tuples\n",
    "Tuples differ from lists in that they are immutable, while lists are mutable."
   ]
  },
  {
   "cell_type": "code",
   "execution_count": 4,
   "metadata": {},
   "outputs": [
    {
     "name": "stdout",
     "output_type": "stream",
     "text": [
      "(1, 2, 3)\n"
     ]
    }
   ],
   "source": [
    "tup = (1, 2, 3)\n",
    "\n",
    "print(tup)"
   ]
  },
  {
   "cell_type": "markdown",
   "metadata": {},
   "source": [
    "#### Dictionaries\n",
    "Dictionaries are \"look up tables.\""
   ]
  },
  {
   "cell_type": "code",
   "execution_count": 5,
   "metadata": {},
   "outputs": [
    {
     "data": {
      "text/plain": [
       "{'A': 'T', 'T': 'A', 'C': 'G', 'G': 'C'}"
      ]
     },
     "execution_count": 5,
     "metadata": {},
     "output_type": "execute_result"
    }
   ],
   "source": [
    "rc_dict = {'A':'T', 'T':'A', 'C':'G', 'G':'C'}\n",
    "\n",
    "rc_dict"
   ]
  },
  {
   "cell_type": "markdown",
   "metadata": {},
   "source": [
    "You can look up the value for a key:"
   ]
  },
  {
   "cell_type": "code",
   "execution_count": 6,
   "metadata": {},
   "outputs": [
    {
     "data": {
      "text/plain": [
       "'T'"
      ]
     },
     "execution_count": 6,
     "metadata": {},
     "output_type": "execute_result"
    }
   ],
   "source": [
    "rc_dict['A']"
   ]
  },
  {
   "cell_type": "markdown",
   "metadata": {},
   "source": [
    "You can get a list of all of the keys:"
   ]
  },
  {
   "cell_type": "code",
   "execution_count": 7,
   "metadata": {},
   "outputs": [
    {
     "data": {
      "text/plain": [
       "['A', 'T', 'C', 'G']"
      ]
     },
     "execution_count": 7,
     "metadata": {},
     "output_type": "execute_result"
    }
   ],
   "source": [
    "list(rc_dict.keys())"
   ]
  },
  {
   "cell_type": "markdown",
   "metadata": {},
   "source": [
    "You can do the same for the values:"
   ]
  },
  {
   "cell_type": "code",
   "execution_count": 8,
   "metadata": {},
   "outputs": [
    {
     "data": {
      "text/plain": [
       "['T', 'A', 'G', 'C']"
      ]
     },
     "execution_count": 8,
     "metadata": {},
     "output_type": "execute_result"
    }
   ],
   "source": [
    "list(rc_dict.values())"
   ]
  },
  {
   "cell_type": "markdown",
   "metadata": {},
   "source": [
    "### Mutable versus immutable types\n",
    "An immutable type means that each variable has a fixed value, and you can't change that value without essentially destroying the original variable and creating a new one:"
   ]
  },
  {
   "cell_type": "code",
   "execution_count": 9,
   "metadata": {},
   "outputs": [],
   "source": [
    "x = 1\n",
    "y = x\n",
    "y = 2"
   ]
  },
  {
   "cell_type": "markdown",
   "metadata": {},
   "source": [
    "What is the value of `x`?\n",
    "\n",
    "An integer, is an immutable type.\n",
    "So `y` is assigned the value of `x`, but it's not the same thing as x:"
   ]
  },
  {
   "cell_type": "code",
   "execution_count": 10,
   "metadata": {},
   "outputs": [
    {
     "name": "stdout",
     "output_type": "stream",
     "text": [
      "1\n",
      "2\n"
     ]
    }
   ],
   "source": [
    "print(x)\n",
    "print(y)"
   ]
  },
  {
   "cell_type": "markdown",
   "metadata": {},
   "source": [
    "Things behave differently with mutable types.\n",
    "So a list is mutable.\n",
    "This code defines `x` and then changes its value:"
   ]
  },
  {
   "cell_type": "code",
   "execution_count": 11,
   "metadata": {},
   "outputs": [
    {
     "name": "stdout",
     "output_type": "stream",
     "text": [
      "[1, 2, 3]\n"
     ]
    }
   ],
   "source": [
    "x = [1, 2]\n",
    "x.append(3)\n",
    "print(x)"
   ]
  },
  {
   "cell_type": "code",
   "execution_count": 12,
   "metadata": {},
   "outputs": [
    {
     "name": "stdout",
     "output_type": "stream",
     "text": [
      "[1, 2, 3]\n",
      "[1, 2, 3]\n"
     ]
    }
   ],
   "source": [
    "y = x\n",
    "print(x)\n",
    "print(y)"
   ]
  },
  {
   "cell_type": "markdown",
   "metadata": {},
   "source": [
    "Now we are going to change `y`:"
   ]
  },
  {
   "cell_type": "code",
   "execution_count": 13,
   "metadata": {},
   "outputs": [
    {
     "name": "stdout",
     "output_type": "stream",
     "text": [
      "[1, 2, 3, 4]\n"
     ]
    }
   ],
   "source": [
    "y.append(4)\n",
    "print(y)"
   ]
  },
  {
   "cell_type": "markdown",
   "metadata": {},
   "source": [
    "What is `x`?"
   ]
  },
  {
   "cell_type": "code",
   "execution_count": 14,
   "metadata": {},
   "outputs": [
    {
     "name": "stdout",
     "output_type": "stream",
     "text": [
      "[1, 2, 3, 4]\n"
     ]
    }
   ],
   "source": [
    "print(x)"
   ]
  },
  {
   "cell_type": "markdown",
   "metadata": {},
   "source": [
    "The difference between a tuple and a list, is that a list is mutable and tuple is not:"
   ]
  },
  {
   "cell_type": "code",
   "execution_count": 15,
   "metadata": {},
   "outputs": [
    {
     "name": "stdout",
     "output_type": "stream",
     "text": [
      "[500, 2]\n"
     ]
    },
    {
     "ename": "TypeError",
     "evalue": "'tuple' object does not support item assignment",
     "output_type": "error",
     "traceback": [
      "\u001b[0;31m---------------------------------------------------------------------------\u001b[0m",
      "\u001b[0;31mTypeError\u001b[0m                                 Traceback (most recent call last)",
      "\u001b[0;32m<ipython-input-15-cd3440471d7d>\u001b[0m in \u001b[0;36m<module>\u001b[0;34m()\u001b[0m\n\u001b[1;32m      5\u001b[0m \u001b[0;34m\u001b[0m\u001b[0m\n\u001b[1;32m      6\u001b[0m \u001b[0;31m# can't do this\u001b[0m\u001b[0;34m\u001b[0m\u001b[0;34m\u001b[0m\u001b[0m\n\u001b[0;32m----> 7\u001b[0;31m \u001b[0mxtuple\u001b[0m\u001b[0;34m[\u001b[0m\u001b[0;36m0\u001b[0m\u001b[0;34m]\u001b[0m \u001b[0;34m=\u001b[0m \u001b[0;36m500\u001b[0m\u001b[0;34m\u001b[0m\u001b[0m\n\u001b[0m",
      "\u001b[0;31mTypeError\u001b[0m: 'tuple' object does not support item assignment"
     ]
    }
   ],
   "source": [
    "xtuple = (1, 2)\n",
    "xlist = [1, 2]\n",
    "xlist[0] = 500\n",
    "print(xlist)\n",
    "\n",
    "# can't do this\n",
    "xtuple[0] = 500"
   ]
  },
  {
   "cell_type": "markdown",
   "metadata": {},
   "source": [
    "A tuple cannot be modified (so use it if what you created is going to never change), whereas a list can be modified.\n",
    "\n",
    "In dictionaries, you can only use immutable types as the keys."
   ]
  },
  {
   "cell_type": "markdown",
   "metadata": {},
   "source": [
    "## Built-in modules\n",
    "One of the things that makes Python really powerful, is that there are a lot of extra modules and packages.\n",
    "\n",
    "Some are \"built-in\", which means that you get them if you install Python.\n",
    "\n",
    "First we'll look at built-in modules.\n",
    "\n",
    "### math\n",
    "The math module has a lot of basic functions that involve **math**."
   ]
  },
  {
   "cell_type": "code",
   "execution_count": 16,
   "metadata": {},
   "outputs": [
    {
     "data": {
      "text/plain": [
       "1.4142135623730951"
      ]
     },
     "execution_count": 16,
     "metadata": {},
     "output_type": "execute_result"
    }
   ],
   "source": [
    "# import the math module\n",
    "import math\n",
    "\n",
    "# dot means use that function from the math module\n",
    "math.sqrt(2)"
   ]
  },
  {
   "cell_type": "markdown",
   "metadata": {},
   "source": [
    "You can import functions so that you don't need to add the module name:"
   ]
  },
  {
   "cell_type": "code",
   "execution_count": 17,
   "metadata": {},
   "outputs": [
    {
     "data": {
      "text/plain": [
       "1.4142135623730951"
      ]
     },
     "execution_count": 17,
     "metadata": {},
     "output_type": "execute_result"
    }
   ],
   "source": [
    "from math import *\n",
    "\n",
    "sqrt(2)"
   ]
  },
  {
   "cell_type": "markdown",
   "metadata": {},
   "source": [
    "Do **not** do this unless you have a good reason.\n",
    "The confusing part is that now someone looking at your code doesn't know what the function does unless they know that you imported `math`.\n",
    "\n",
    "In general, the potential confusion outweights the benefits."
   ]
  },
  {
   "cell_type": "markdown",
   "metadata": {},
   "source": [
    "### os and glob\n",
    "Two that are very useful are `os` and `glob` (also `shutil`, which I won't describe here).\n",
    "\n",
    "These are for doing shell-like commands.\n",
    "Basically, unless you are doing something really simple or really computatinally intensive, there is no good reason to program in shell.\n",
    "It will probably be a lot simpler for you to write and others to read if you use Python and modules like `os` and `glob`."
   ]
  },
  {
   "cell_type": "code",
   "execution_count": 18,
   "metadata": {},
   "outputs": [
    {
     "data": {
      "text/plain": [
       "['barcodes_R1.fastq', 'README.md', 'lecture_8.ipynb', '.ipynb_checkpoints']"
      ]
     },
     "execution_count": 18,
     "metadata": {},
     "output_type": "execute_result"
    }
   ],
   "source": [
    "import os\n",
    "\n",
    "os.listdir('.')"
   ]
  },
  {
   "cell_type": "markdown",
   "metadata": {},
   "source": [
    "In shell, you can use `*` as a wildcard. You can also do this in `glob`:"
   ]
  },
  {
   "cell_type": "code",
   "execution_count": 19,
   "metadata": {},
   "outputs": [
    {
     "data": {
      "text/plain": [
       "['lecture_8.ipynb']"
      ]
     },
     "execution_count": 19,
     "metadata": {},
     "output_type": "execute_result"
    }
   ],
   "source": [
    "import glob\n",
    "glob.glob('*.ipynb')"
   ]
  },
  {
   "cell_type": "markdown",
   "metadata": {},
   "source": [
    "### re\n",
    "The `re` module is for \"regular expressions\". \n",
    "These are very useful for parsing strings.\n",
    "\n",
    "Here is a common example from my work with influenza.\n",
    "You download some strains from the database, and they have a name that looks like this:"
   ]
  },
  {
   "cell_type": "code",
   "execution_count": 20,
   "metadata": {},
   "outputs": [],
   "source": [
    "strain1 = 'A/New York/3/1994 (H3N2)'\n",
    "strain2 = 'A/California/3/X/2003 (H12N1)'\n",
    "strain3 = 'A/Perth/2009 (H3N2)'\n",
    "\n",
    "strains = [strain1, strain2, strain3]"
   ]
  },
  {
   "cell_type": "markdown",
   "metadata": {},
   "source": [
    "You want to get some information out of these, like the year.\n",
    "\n",
    "Regular expressions allow you to define patterns in a string:"
   ]
  },
  {
   "cell_type": "code",
   "execution_count": 21,
   "metadata": {},
   "outputs": [
    {
     "name": "stdout",
     "output_type": "stream",
     "text": [
      "{'H3N2': 2, 'H12N1': 1}\n"
     ]
    }
   ],
   "source": [
    "import re\n",
    "\n",
    "strainmatch = re.compile(\n",
    "        '(?P<year>\\d{4}) \\((?P<subtype>H\\d+N\\d+)\\)$')\n",
    "\n",
    "subtype_counter = {}\n",
    "for strain in strains:\n",
    "    m = strainmatch.search(strain)\n",
    "    year = m.group('year')\n",
    "    subtype = m.group('subtype')\n",
    "    if subtype in subtype_counter:\n",
    "        subtype_counter[subtype] += 1\n",
    "    else:\n",
    "        subtype_counter[subtype] = 1\n",
    "        \n",
    "print(subtype_counter)"
   ]
  },
  {
   "cell_type": "markdown",
   "metadata": {},
   "source": [
    "## External packages\n",
    "There are also packages, that do **not** come with your Python, and that you have to install separately.\n",
    "\n",
    "These other packages are on something called `PyPI`.\n",
    "\n",
    "### Installing with pip\n",
    "If you needed to install biopython, you would do:\n",
    "\n",
    "    pip install biopython\n",
    "    \n",
    "In general, you install Python packages with `pip`.\n",
    "If you did not install Python with `conda`, there are all these complex things about permissions, but we are not going to go into that.\n",
    "\n",
    "This just works, because you all have BioPython installed:"
   ]
  },
  {
   "cell_type": "code",
   "execution_count": 22,
   "metadata": {},
   "outputs": [
    {
     "name": "stdout",
     "output_type": "stream",
     "text": [
      "1.72\n"
     ]
    }
   ],
   "source": [
    "import Bio\n",
    "print(Bio.__version__)"
   ]
  },
  {
   "cell_type": "markdown",
   "metadata": {},
   "source": [
    "This probably will not work for you unless you first went to the terminal and types:\n",
    "\n",
    "    pip install regex"
   ]
  },
  {
   "cell_type": "code",
   "execution_count": 23,
   "metadata": {},
   "outputs": [],
   "source": [
    "import regex"
   ]
  },
  {
   "cell_type": "markdown",
   "metadata": {},
   "source": [
    "## Biopython\n",
    "Biopython has a lot of useful biology tools in there.\n",
    "It is not very fast, but it is great it reading in files with lots of different formats.\n",
    "\n",
    "So the `Bio.SeqIO.parse` command is your friend."
   ]
  },
  {
   "cell_type": "markdown",
   "metadata": {},
   "source": [
    "## Practical example\n",
    "Parsing barcodes.\n",
    "\n",
    "The sequences are as follows:\n",
    "\n",
    "    5'-[end of HA]-AGGCGGCCGC-[16 X N]-3'\n",
    "    \n",
    "or \n",
    "\n",
    "    5'-[end of NA]-AGGCGGCCGC-[16 X N]-3'\n",
    "    \n",
    "The end of NA is:\n",
    "\n",
    "    TGGCCTGATGGAGCAGAACTCCCTTTCACGATAGATAAATAATAGTGCACCAT\n",
    "    \n",
    "The end of HA is:\n",
    "\n",
    "    ATGTGTTCCAACGGCTCCTTGCAATGCCGGATTTGCATATAATGATGCACCAT\n",
    "    \n",
    "In our example, I've included a FASTQ file with the barcodes:"
   ]
  },
  {
   "cell_type": "code",
   "execution_count": 24,
   "metadata": {},
   "outputs": [
    {
     "data": {
      "text/plain": [
       "['barcodes_R1.fastq']"
      ]
     },
     "execution_count": 24,
     "metadata": {},
     "output_type": "execute_result"
    }
   ],
   "source": [
    "glob.glob('*.fastq')"
   ]
  },
  {
   "cell_type": "markdown",
   "metadata": {},
   "source": [
    "We are going to read the sequences into a list:"
   ]
  },
  {
   "cell_type": "code",
   "execution_count": 25,
   "metadata": {},
   "outputs": [
    {
     "name": "stdout",
     "output_type": "stream",
     "text": [
      "ID: HISEQ:621:HMJGNBCX2:1:1101:1797:2150\n",
      "Name: HISEQ:621:HMJGNBCX2:1:1101:1797:2150\n",
      "Description: HISEQ:621:HMJGNBCX2:1:1101:1797:2150 1:N:0:ATGTCA\n",
      "Number of features: 0\n",
      "Per letter annotation for: phred_quality\n",
      "Seq('GCTTAAGTTATTTAGTGCGGCCGCCTATGGTGCACTATTATTTATCTATCGTGA...AGA', SingleLetterAlphabet())\n"
     ]
    }
   ],
   "source": [
    "import Bio.SeqIO\n",
    "\n",
    "reads_records = list(Bio.SeqIO.parse(\n",
    "        'barcodes_R1.fastq', 'fastq'))\n",
    "\n",
    "print(reads_records[0])"
   ]
  },
  {
   "cell_type": "markdown",
   "metadata": {},
   "source": [
    "Often, we want to simplify what we read from BioPython to just be a string:"
   ]
  },
  {
   "cell_type": "code",
   "execution_count": 26,
   "metadata": {},
   "outputs": [
    {
     "data": {
      "text/plain": [
       "'GCTTAAGTTATTTAGTGCGGCCGCCTATGGTGCACTATTATTTATCTATCGTGAAAGGGAGTTCTGCTCCATCAGGCCAAGATCGGAAGAGCACACGTCTGAACTCCAGTCACATGTCAGAATCTCGTATGCCGTCTTCTGCTTGAAAAAAAAAAAAAAGCTGAAATTAATAATTTTGAAACCAGTTTTGTAAACGCAGCACTAAAATGAAGGCATGCAACGACGATGTTTATTGACACGGAATAGCAGA'"
      ]
     },
     "execution_count": 26,
     "metadata": {},
     "output_type": "execute_result"
    }
   ],
   "source": [
    "reads = []\n",
    "for r in reads_records:\n",
    "    reads.append(str(r.seq))\n",
    "    \n",
    "reads[0]"
   ]
  },
  {
   "cell_type": "markdown",
   "metadata": {},
   "source": [
    "We want to get barcodes out of strings.\n",
    "First, we need to reverse complement the reads:"
   ]
  },
  {
   "cell_type": "code",
   "execution_count": 27,
   "metadata": {},
   "outputs": [],
   "source": [
    "def reverseComplement(seq):\n",
    "    \"\"\"Gets the reverse complement of `seq`.\"\"\"\n",
    "    rc_dict = {'A':'T', 'T':'A', \n",
    "               'C':'G', 'G':'C',\n",
    "               'N':'N'}\n",
    "    rc = []\n",
    "    for nt in seq:\n",
    "        rc.append(rc_dict[nt])\n",
    "    rc = reversed(rc)\n",
    "    rc = ''.join(rc) # turn into string\n",
    "    return rc"
   ]
  },
  {
   "cell_type": "code",
   "execution_count": 28,
   "metadata": {},
   "outputs": [],
   "source": [
    "reads_rc = []\n",
    "for read in reads:\n",
    "    reads_rc.append(reverseComplement(read))"
   ]
  },
  {
   "cell_type": "markdown",
   "metadata": {},
   "source": [
    "Get the barcodes. \n",
    "So, we know from above that the barcodes are the first 16 nucleotides in each read.\n",
    "\n",
    "We also know that they next thing should be the reverse complement of this sequence `AGGCGGCCGC`:"
   ]
  },
  {
   "cell_type": "markdown",
   "metadata": {},
   "source": [
    "Make a regular expression that requires that sequence right after the barcode:"
   ]
  },
  {
   "cell_type": "code",
   "execution_count": 29,
   "metadata": {},
   "outputs": [
    {
     "name": "stdout",
     "output_type": "stream",
     "text": [
      "Found 9431 barcodes in 10000 reads.\n"
     ]
    }
   ],
   "source": [
    "barcode_match = re.compile(\n",
    "        'AGGCGGCCGC(?P<barcode>[ACGT]{16})$')\n",
    "\n",
    "barcodes = []\n",
    "\n",
    "for read in reads_rc:\n",
    "    barcode = barcode_match.search(read)\n",
    "    if barcode:\n",
    "        barcodes.append(barcode.group(\n",
    "                'barcode'))\n",
    "        \n",
    "print(f\"Found {len(barcodes)} barcodes in \"\n",
    "      f\"{len(reads)} reads.\")"
   ]
  },
  {
   "cell_type": "markdown",
   "metadata": {},
   "source": [
    "We count the barcodes using a dictionary:"
   ]
  },
  {
   "cell_type": "code",
   "execution_count": 30,
   "metadata": {},
   "outputs": [
    {
     "name": "stdout",
     "output_type": "stream",
     "text": [
      "{'ACTAAATAACTTAAGC': 63, 'AACCGTGACCAGGAAG': 70, 'CCACATTCATCGCTGA': 30, 'TTATCGTCTCCCATAT': 78, 'CTACCCGTTTCCCAAC': 124, 'CATACCAGTCATCCCT': 29, 'ACTTACGTATAAGTCA': 56, 'GCTACTACTATACCAT': 127, 'CGTCTTCCATCCCCAT': 136, 'GCGAGTCCACCAATTG': 97, 'GTTACCCACAGTCCGC': 64, 'ATATAAATAAGCTATG': 51, 'CACCACACAAGGATGT': 43, 'TCTTTTCTTATTGAGG': 74, 'CTTAACCTTCCGACAA': 57, 'ATAAACGTTCCCCAAG': 111, 'TCATACATCACACTTA': 48, 'GTACCCTCCGTGAATC': 100, 'ACTCCACGCTACCACG': 34, 'GCACTCCTCAACCCTT': 48, 'CCGCTCCCTGCTGTCC': 43, 'ACCCGTGAACCAAAGC': 1, 'AATCGTACATCCCCAC': 127, 'CCACCAGCCATACGGC': 93, 'AAACGTAGCGATAACT': 62, 'TGGACTCCACACCCCG': 79, 'TCACGTCCCATATTAC': 10, 'TCAAGAAGCCTTGGAG': 152, 'TTTCTCCCGCATCTCG': 105, 'AATCAATACGACCTGT': 74, 'TGACAATACCCTACTC': 48, 'CCCGACCCGACATTAA': 158, 'ACGAGAGGTCGACTCG': 61, 'TTCGACTTCCTAGTAC': 87, 'TTTCTCCCCCATCTCG': 1, 'CATTCACTACTCCCAA': 94, 'TCACCAGTGATCCCTT': 67, 'ACCACCGCCACACCCT': 47, 'ACCCAGTCTAGCTAAC': 71, 'GGTCATACGCCTTCGC': 17, 'GCTGCATTCCTGTGGC': 74, 'GTTCAGGACACACTTA': 71, 'TGGGCAATAAATGTAG': 58, 'CCAGCCTCACACTAGC': 110, 'CCCTCATCCTGTGTCA': 56, 'ACGCGTGAACCAAAGC': 106, 'AATTCCATTCAGGCTG': 35, 'TTCTAGCCTTATCTCC': 83, 'TGACGATCCTCAAGAA': 145, 'ACCAGTTCTCCCCGGG': 154, 'AGAATAATCTCAAACT': 63, 'AAACAAACAAGTCTGT': 53, 'TCACGGCCACGAGTAA': 66, 'AATACGAACATCTCGG': 52, 'CGAATCTGCGCAATCT': 60, 'GATTTCCGATCAGTCT': 127, 'TAACACTGATGGCAAC': 79, 'AGAACGTCTTGATAGC': 32, 'GCATGTTATAAACTCC': 45, 'TCACCCCGACCAGCAG': 33, 'GACCGGTGCTTCAACA': 77, 'TTCCACCTCACCTTCT': 95, 'TGCTGACAACACGTAA': 49, 'ATAGTCGGGCCTACCG': 22, 'GATAGTCGAACACATG': 88, 'TGATGTAATGACAGGC': 75, 'TTCCCAATGGTACTCG': 29, 'CTGGCAAGAAAATTCC': 44, 'TTCGGTGAACGTACAC': 76, 'CTCCATCACTCGCCAA': 116, 'GCACATAGGGAGCCAA': 58, 'TCAACCCCACGCCGCT': 25, 'TCTGGCAGGCCTCGCT': 123, 'TAACTAGCGTTTTCAA': 1, 'AGTACTCATCGAGCAA': 31, 'AACCGTCACCTCAACC': 107, 'GAACGACCCTTAACTA': 18, 'TCCAGAAACTTCAATG': 73, 'GAACCCTAGAATCCCC': 71, 'ACACGATACCCTTGAG': 27, 'CTAATTCAATCCTACG': 102, 'CCAGCCATCCCCTCTT': 77, 'ATTCACACTCCTGCCA': 24, 'TACTTATTAGCATGTC': 46, 'CTTACCATATTACAAA': 105, 'GGAAATTATACTGCCA': 10, 'TGTACAGCAAAAGTAG': 72, 'GCCCCACAATAACCGC': 40, 'TGACATCGCGAGACGG': 74, 'GCACGCGATCTGCGAC': 33, 'AGGCACTAACCCAGCA': 39, 'CCATGTCTTGCTCGCC': 26, 'ACTTCATACCATTACA': 32, 'TCAAGCCTGCCACACG': 39, 'AAATTTCTTCCCACAC': 17, 'CTCTCAGTTTACGAAA': 19, 'CCCACCTTCACACCTA': 65, 'ACGAACGTCAAAAAAA': 5, 'GCACTTACATATATGA': 72, 'GTCGCATATGAAGACG': 40, 'ACAAAACCCCCCGACA': 27, 'ACTCGTTGTCCCATAA': 21, 'TCCGTATATCCAAAAG': 14, 'GAGCGTCCCTTCTAAA': 38, 'TCGCTCAGTCGTCTTT': 38, 'GTTACCCACAGTCGGC': 1, 'GAAATCCCTAACGGGC': 17, 'ATTTACGGGCTAGTTG': 7, 'AGACCGTCAGGCACCA': 47, 'TTCCCTAGAGACTACC': 37, 'TGACAACCACGTCCCC': 29, 'GCAAGAAGCCTTGGAG': 1, 'ATACTCTAAAAAATGA': 61, 'CACAACACGTACGCAA': 39, 'TGCACACACACCACGT': 39, 'CCCAGATCCCACCCGC': 12, 'GAGTCACAACCCTGCT': 1, 'ACTGATCAAAGCGTGG': 34, 'ACCGACTCACAGTACT': 55, 'TCGGGCGACTTAAATG': 21, 'ACGAAACTCATATAAA': 74, 'ACTGCCATCCCACACC': 49, 'GGTTCCGTGTGTGGAC': 41, 'GATCTCCCAAGTTGCC': 29, 'CGAGGCGGAAGGCGTC': 18, 'CGCAGCCGGACTCACA': 70, 'CGGAACGCCATCACCG': 14, 'TGATTTACCTAACCCG': 49, 'CTGGGTCCCCCCCAAA': 27, 'AAATGAGACAGCCTAC': 45, 'GAGTCACAACCCGGCT': 66, 'TCCCCTCACGGATTCA': 43, 'GTCAAGCGTCTAACCA': 23, 'CGCGTTAAGATCACCA': 21, 'CCCAGACCGTGAGCCA': 25, 'CAGTGATTTATTTGCG': 30, 'CGTCATAGAGACGGTT': 69, 'TGCAATACCAATAACT': 32, 'CTTAGTATTTCAGTAT': 84, 'GCTGCACCAGCTCCTC': 15, 'GTCGCATATGAAGACT': 4, 'TGACATCACGAGACGG': 1, 'ACACCGGTTCCTCCCC': 20, 'GAACCCTAGAAACCCC': 2, 'CGATCCCGTCCAGACA': 50, 'ACGGATAATTACCGCC': 32, 'CACACACCGTGACAGG': 88, 'CTTAACCGTCCGACAC': 1, 'GGAACACTGTGAAGCA': 42, 'CGAATCTTCGCAATCT': 1, 'ATTACCCCCATTTAAG': 11, 'CTCACTTATTGTTCTG': 50, 'GACCTCTCAGATTAGA': 42, 'CCAATCCCCTCGAGTG': 24, 'GGTTTTCTAACACCGC': 9, 'CGTCTTCCATCCACAT': 1, 'GTGAACTTACAGCTCC': 30, 'CCCCTATCATACTCTC': 6, 'ACTCGATTACACGTGC': 84, 'GCATTTTATAAACTCC': 1, 'AGGGTAGTCGACTACT': 15, 'ACGCGTGAACCAAAGG': 1, 'GCGAAATGCAATCCTC': 26, 'ATAGTACCGCTCGCAA': 1, 'TCTTAACAGCGTCAGC': 18, 'CCGTACCCAAGACCAT': 12, 'GCGTATAAGTACGCCG': 51, 'GGGTCCACGTCCCAAG': 6, 'CGGCCCCAACGCAATA': 23, 'TTATACCTTAGTCAGT': 42, 'GGGCGTCCCTTCTAAA': 1, 'CCCCCCACTACAATTA': 39, 'TCACCCCGACCAGAAG': 1, 'GAGCACATTTATTCGT': 1, 'ATTGCCCGGTGGCCCT': 39, 'TATCGTACATCCCCAC': 1, 'ATTGCATAACTACAAC': 76, 'CGTCTTCCATCCCCAC': 10, 'AATTCCATTCGGGCTG': 1, 'GACCCCTACTTAGTGG': 23, 'TGCCCTGAGCCTGCAC': 8, 'ACGGAAACCCAGGCCA': 39, 'TCTGACTAGCACATCG': 19, 'ACCAGTGCTCCCCGGT': 1, 'CATCATAGAGACGGTT': 1, 'ACTTCATACCTTTACA': 1, 'GCTGCACCGGCTCCTC': 1, 'AATAAGAACATCTCGG': 1, 'CCTTTGCTTCGTAATA': 15, 'AAGCTTTCGTCGCGCA': 4, 'TGTCTAAATGTCCACG': 2, 'TCACCACTGATCCCTT': 1, 'AGAGTAGTCGACTACT': 1, 'CCTGCATTCTGGATGC': 4, 'CGACGCAGCACCCCAT': 15, 'GACAGAGCTAGCACAG': 18, 'CTTAACCGTCCGACAA': 1, 'CGGTGCTACCTTCTAT': 1, 'GACCGGGGCTTCAACA': 1, 'GTTCAGTACACACTTA': 1, 'GTTTCATCCCCCTATC': 19, 'ACGCGTGAACAAAAGC': 2, 'CGGAATCAACCCCCTC': 10, 'TTAGAAGAAATCAAAT': 7, 'CATCATTCTTACTAAA': 32, 'CCCTGACCTAACCACG': 1, 'TCAGTATATCCAAAAG': 2, 'AGTAAATTCCCGGACG': 6, 'CGCACAATACTTCGAC': 36, 'ACAAAACCCCCCGATA': 1, 'ATAAACGTTCCCCAAT': 1, 'TGAGTTTGCAACGAAC': 6, 'TTCGGTGAACGAACAC': 1, 'TCACCAGTTATCCCTT': 1, 'GGACGCGATCTGCGAC': 1, 'TCAACCCCACGCCTCT': 1, 'GACCACATTTATTCGT': 45, 'ACATAAATTAAAGGAA': 7, 'AATACGAACATCTAGG': 2, 'GTTCAGGAGACACTTA': 1, 'TCCACCCACTCGCGAT': 3, 'GCGAGTCAACCAATTG': 1, 'ACGAAAGTCATATAAA': 1, 'ACCAGTGCGCCCCGGG': 1, 'TTTCTCCCGCATCTCC': 1, 'GCCGCAAGGAACGCTT': 15, 'TCCTCTAGCATCCCCA': 16, 'GATAGGCGAACACATG': 1, 'TCCAGAAACTTGAATG': 1, 'TCGGACGGTATACTGC': 11, 'TAAAAACGTTATAACA': 28, 'TGTACAACAAAAGTAG': 1, 'AAGAAACTCATATAAA': 1, 'CCACCGTGGCAGCCCG': 25, 'CGTCTTCCATCCGCAT': 1, 'CCCGACCCCACATTAA': 1, 'CACCGTAATGTCCTAC': 8, 'TCCACCCACTCGAGAT': 1, 'AGGCACTAACCAAGCA': 1, 'TCGGGGGACTTAAATG': 1, 'AAACTTAATAATTTCC': 1, 'GGGTATAAGTACGCCG': 2, 'ACCAGTTCTCCCCTGG': 2, 'ATACCCTCCGTGAATC': 1, 'AAAGGTAGCGATAACT': 1, 'TGTGCAGCAAAAGTAG': 1, 'TAATACATCACACTTA': 1, 'GAACCCTAGAAGCCCC': 1, 'ACTGATCAAAGCGTGT': 1, 'TCAAGAAGCCTTGGTG': 1, 'CATCACGCCCGTTAGC': 18, 'GGTGATACGCCTTCGC': 1, 'GTTCAGGATACACTTA': 1, 'ACACTCACGACCCAAA': 16, 'AGAATCTGCGCAATCT': 1, 'TGTACAGCAAGAGTAG': 1, 'CCTTTGCTTCGTAACA': 1, 'ACGAAAACCCGGGCCA': 1, 'AAACTTACTAATTTCC': 6, 'CGAATCTGCGCAAACT': 1, 'ATTTCATAACTACAAC': 2, 'AGAGGCGGAAGGCGTC': 1, 'TTGGCCTGCCCTAAAT': 2, 'CGGCCCCAACGCAATG': 1, 'TAACACTGATGGAAAC': 2, 'CGTCGGCCTGTTCATA': 3, 'ACATGTCTTGCTCGCC': 1, 'TGAATTACCTAACCCG': 1, 'CATCACGCCCCTTAGC': 1, 'CTCGACCCGAGGTTAA': 1, 'CGTCTTCCATCCCAAT': 1, 'TTTGTCCCTTGAACCC': 1, 'ACGGATAATTACCGGC': 1, 'TGGAATACCAATAACT': 1, 'ATGGGTCCCCCCCAAA': 1, 'AATACGAGCATCTCGG': 1, 'TAACACTTATGGCAAC': 1, 'ACCAGTTCTCCCCGGA': 2, 'CGTCATAGAGAAGGTT': 1, 'ACGAGAGGCCGACTCG': 1, 'TTACTCTAAAAAATGA': 1, 'ACTAAAGAACTTAAGC': 1, 'TGACATAGCGAGACGG': 1, 'CGAATCTGCGCAATCC': 1, 'TGGGCAATAAACGTAG': 1, 'TTATACCTTAGTCTGT': 1, 'TCTTAACAGCATCAGC': 1, 'CCCGACCGGACATTAA': 1, 'TTCGACTTCCTAATAC': 1, 'TAATATATGGATATTC': 13, 'AATCAATACCACCTGT': 1, 'CACACCAGTCATCCCT': 1, 'GTTAGTATTTCAGTAT': 1, 'ACCCACCTATTGACCC': 2, 'CGACGCAGCACCCCCT': 1, 'ACCAGTTCTCCCAGGG': 1, 'ACGCGTGAACCAAATC': 1, 'ATATAAATAATCTATG': 1, 'GTCTCCCATCATGTAG': 2, 'AACCGTCACCTCTACC': 1, 'ACCAAGTCTAGCTAAC': 1, 'AACTGTGACCAGGAAG': 1, 'ATAGTCGGGACTACCG': 1, 'GCGGCAGAGCTGCTTT': 6, 'AAATGAGACAGACTAC': 1, 'AGATTAATCTCAAACT': 1, 'TTTCTCACGCATCTCG': 1, 'GACTTACGGCGTCATG': 2, 'GTACACTCCGTGAATC': 1, 'ACACTCCTCAACCCTT': 1, 'ACCAGTGCTCCCCGGG': 1, 'TGGGAAATAAATGTAG': 1, 'AAAAAACCCCCCGACA': 1, 'CATACCTTTCTGACTT': 3, 'TGACATCTCGAGACGG': 1, 'CCACCGTGTCAGCCCG': 1, 'TTCGAATTCCTAGTAC': 1, 'GATCTCTCAGATTAGA': 1, 'GCCCCACAATAACCAC': 1, 'TGGGCAAGAAATGTAG': 1, 'CACAACACGTACGTAA': 1, 'ACTCGATTACGCGTGC': 1, 'GCACGCGATCTCCGAC': 1, 'GATAGTTGAACACATG': 1, 'TGACATCGCGATACGG': 1, 'AACCGTCACCTCAAAC': 1, 'AAACAAACAAGTGTGT': 1, 'TGACTATCCTCAAGAA': 1, 'CTCAGTATTTTAGTTT': 1, 'ACTCAATTACACGTGC': 1, 'TGACAATACCCTACCC': 1, 'TCTGGCAGGACTCGCT': 1, 'TCACGGCCACGATTAA': 1, 'TATCATTCTTACTAAA': 1, 'TGACAACCACATCCCC': 1, 'ATGGAAACCCAGGCCA': 1, 'ATTGAATAACTACAAC': 1, 'AATAGTACATCCCCAC': 1, 'ATAAACGTTCCCCAAA': 1, 'GCTGCATTCCTGTGGA': 1, 'GGACTTACATATATGA': 1, 'AGGGGCACGAGTCGCC': 2, 'CGTCCCAGTAGAGTCT': 1, 'TCAAGAAACTTCAATG': 1, 'CTGGGTCGCCCCCAAA': 1, 'ATCGACTCACAGTACT': 1, 'TCCGTATAACCAAAAG': 1, 'GGTCATACGCCTCCGC': 1, 'ACAGGCAGCTACGGGA': 3, 'AGAATAATCTCAGACT': 1, 'TTATCGTCTCCCATAC': 1, 'AAACTTACTAATGTCC': 1, 'CTTAGTAGTTCAGTAT': 1, 'CTTACCATATTAAAAA': 1, 'TTCGGTGAAAGTACAC': 1, 'GACCACATTTATCCGT': 1, 'AATCAATACGACCTTT': 1, 'CCGCTCCCTCCTGTCC': 1, 'AAACGTGACCAGGAAG': 1, 'GACACTCCAGTCGACA': 1, 'CCACCGTGGGAGCCCG': 1, 'ACCGACTGACAGTACT': 1, 'ATCACTTATTGTTCTG': 1, 'TGCTGACAACGCGTAA': 1, 'GCTGCACCATCTCCTC': 1, 'CGTCTTCCATCCTCAT': 1, 'ACCAGACCGTGAGCCA': 1, 'GGAAATTATACTCCCA': 1, 'TGCAATACCAATAACG': 1, 'GTTCACGACACACTTA': 1, 'TATTTCCGATCAGTCT': 1, 'GATATAGCTAGCACAG': 1, 'GTTTCATACCCCTATC': 1, 'GTACCCTACGTGAATC': 1, 'GTGAACTTAAAGCTCC': 1, 'GTCCCATATGAAGACG': 1, 'AGTACTCATCGTGCAA': 1, 'CCCAGACCGTGAGACA': 1, 'CTCCTTCACTCGCCAA': 1, 'CGAATCTGCGCAATAT': 1, 'TGACGAGCCTCAAGAA': 1, 'AATCGTACATCCCCGC': 1, 'GCATGTTATAAACTCA': 1, 'CACACACCTTGACAGG': 1, 'AATCGTACATCAACAC': 1, 'GCGAAATGCAATCCCC': 1, 'GCGACTCCACCAATTG': 1, 'CCCACCTTCACAACTA': 1, 'AGCACACCCAGCTCGA': 1, 'CATTCACTAATCCCAA': 1, 'AGACCGTCAGACACCA': 1, 'CGAGGCGGAAGGGGTC': 1, 'CTAATTCAATCATACG': 1, 'GTACCATCCGTGAATC': 1, 'CAAGCCATCCCCTCTT': 1, 'ATATAAAGAAGCTATG': 1, 'ACCACCGCCACACCCC': 1, 'TTCCCTAGAGACTAAC': 1, 'CGACGCAACACCCCAT': 1, 'TCTTAACATCGTCAGC': 1, 'CGAATCTGAGCAATCT': 1, 'GATAGTCGAGCACATG': 1, 'GCACATAGGGAGCAAA': 1, 'CATTCACTACTCCCAT': 1, 'TCACGTCCACGAGTAA': 1, 'ACCGACCAGACATTAA': 1, 'ACGGACCCGCAGGCCA': 1, 'ATTCACACTACTGCCA': 1, 'CCGCTCCCTGCTGTAC': 1, 'GTACCCTCCTAGAATT': 1, 'TCTCCAGTGATCCCTT': 1, 'ACACTCACCACCCAAA': 1, 'TAGACTCCACACCCCG': 1, 'TACGGTGAACGTACAC': 1, 'GCTGCATGCCTGTGGC': 1, 'GCAGCCTCACACTAGC': 1, 'CCCTACCCGACATTAA': 1, 'TGACAAACACGTCCCC': 1, 'ACTGCCATCCCACTCC': 1, 'ATATAAATAAGCTATA': 1, 'GTAAACGTTCCCCAAG': 1, 'TCAAGAAGGCTTGGAG': 1, 'CTTACCATATTACAAT': 1, 'AGGCCCCAACGCAATA': 1, 'TCAAGCCTGCCATACG': 1, 'ATAGTCGAGCCTACCG': 1, 'CATTAACTACTCCCAA': 1, 'ACCGACGCACAGTACT': 1, 'GCACGCGATTTGCGAC': 1, 'TCTGGCAGGCCTCGAT': 1, 'ATTGCATGACTACAAC': 1, 'TTACGATCCTCAAGAA': 1, 'GCACATAAGGAGCCAA': 1, 'AATACGAACATATCGG': 1, 'GCTACTACTATACCTT': 1}\n"
     ]
    }
   ],
   "source": [
    "barcode_counts = {}\n",
    "\n",
    "for barcode in barcodes:\n",
    "    if barcode in barcode_counts:\n",
    "        barcode_counts[barcode] += 1\n",
    "    else:\n",
    "        barcode_counts[barcode] = 1\n",
    "        \n",
    "print(barcode_counts)"
   ]
  },
  {
   "cell_type": "code",
   "execution_count": null,
   "metadata": {},
   "outputs": [],
   "source": []
  }
 ],
 "metadata": {
  "kernelspec": {
   "display_name": "Python 3",
   "language": "python",
   "name": "python3"
  },
  "language_info": {
   "codemirror_mode": {
    "name": "ipython",
    "version": 3
   },
   "file_extension": ".py",
   "mimetype": "text/x-python",
   "name": "python",
   "nbconvert_exporter": "python",
   "pygments_lexer": "ipython3",
   "version": "3.6.5"
  },
  "toc": {
   "nav_menu": {},
   "number_sections": false,
   "sideBar": true,
   "skip_h1_title": false,
   "toc_cell": false,
   "toc_position": {},
   "toc_section_display": "block",
   "toc_window_display": true
  }
 },
 "nbformat": 4,
 "nbformat_minor": 2
}
